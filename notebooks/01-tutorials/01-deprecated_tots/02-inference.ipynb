{
 "cells": [
  {
   "cell_type": "markdown",
   "metadata": {},
   "source": [
    "[**AN INTRODUCTION TO INFERENCE IN PYRO**](http://pyro.ai/examples/intro_part_ii)"
   ]
  },
  {
   "cell_type": "markdown",
   "metadata": {},
   "source": [
    "# Inference"
   ]
  },
  {
   "cell_type": "code",
   "execution_count": 1,
   "metadata": {},
   "outputs": [],
   "source": [
    "import matplotlib.pyplot as plt\n",
    "import numpy as np\n",
    "import torch"
   ]
  },
  {
   "cell_type": "code",
   "execution_count": 54,
   "metadata": {},
   "outputs": [],
   "source": [
    "import pyro\n",
    "from pyro import infer, optim, distributions as dist, sample, param"
   ]
  },
  {
   "cell_type": "markdown",
   "metadata": {},
   "source": [
    "### ex1. simple model"
   ]
  },
  {
   "cell_type": "markdown",
   "metadata": {},
   "source": [
    "* consider the model:\n",
    "    * $weight  |  guess \\sim Normal(guess, 1)$ \n",
    "    * $measurement | guess, weight \\sim Normal(weight, 0.75)$"
   ]
  },
  {
   "cell_type": "markdown",
   "metadata": {},
   "source": [
    "* note that \n",
    "    * it encodes belief on weight and measurement\n",
    "    * it is a generative model for the joint probability of $weight$ and $measurement$"
   ]
  },
  {
   "cell_type": "code",
   "execution_count": 14,
   "metadata": {},
   "outputs": [],
   "source": [
    "def scale(guess):\n",
    "    # Get weight from guess\n",
    "    weight = sample('weight', dist.Normal(guess, 1.))\n",
    "    \n",
    "    # Get measurement from weight\n",
    "    measurement = sample('measurement', dist.Normal(weight, .75))\n",
    "    return measurement.item()"
   ]
  },
  {
   "cell_type": "code",
   "execution_count": 5,
   "metadata": {},
   "outputs": [
    {
     "data": {
      "text/plain": [
       "[-0.500455379486084,\n",
       " -0.21372061967849731,\n",
       " 1.157045602798462,\n",
       " 0.4046907424926758,\n",
       " -0.6650682091712952,\n",
       " 0.3975140154361725,\n",
       " -0.2733139991760254,\n",
       " 1.3474061489105225,\n",
       " 2.1665823459625244,\n",
       " 3.0276918411254883]"
      ]
     },
     "execution_count": 5,
     "metadata": {},
     "output_type": "execute_result"
    }
   ],
   "source": [
    "[scale(i*.2) for i in range(10)]"
   ]
  },
  {
   "cell_type": "markdown",
   "metadata": {},
   "source": [
    "## Conditioning"
   ]
  },
  {
   "cell_type": "markdown",
   "metadata": {},
   "source": [
    "* the real utility of ppl's come from:\n",
    "    * the ability of generative models to condition on observed data\n",
    "    * infer the latent factors that might have produced the data\n",
    "* in `pyro`, this is carried by separating the **expression of conditioning** from **its evaluation** via inference (?):\n",
    "    * write a model once\n",
    "    * then condition it on data - by *constraining* a model's internal `sample` statements to be equal to a given set of observations\n"
   ]
  },
  {
   "cell_type": "markdown",
   "metadata": {},
   "source": [
    "### ex1.2 conditioning the simple model"
   ]
  },
  {
   "cell_type": "markdown",
   "metadata": {},
   "source": [
    "* suppose we want to sample from distribution of `weight`, given `guess == 8.5`\n",
    "* but now we've observed `measurement == 9.5`\n",
    "* we then want to infer:\n",
    "$$ (weight | guess, measurement) \\sim ? $$ "
   ]
  },
  {
   "cell_type": "markdown",
   "metadata": {},
   "source": [
    "* we can condition with `pyro.condition`"
   ]
  },
  {
   "cell_type": "code",
   "execution_count": 8,
   "metadata": {},
   "outputs": [],
   "source": [
    "conditioned_scale = pyro.condition(scale, data={'measurement': torch.tensor(9.5)})"
   ]
  },
  {
   "cell_type": "code",
   "execution_count": 10,
   "metadata": {},
   "outputs": [
    {
     "data": {
      "text/plain": [
       "pyro.poutine.messenger._bound_partial"
      ]
     },
     "execution_count": 10,
     "metadata": {},
     "output_type": "execute_result"
    }
   ],
   "source": [
    "type(conditioned_scale)"
   ]
  },
  {
   "cell_type": "markdown",
   "metadata": {},
   "source": [
    "* or create directly a function with observed statements in `pyro.sample`"
   ]
  },
  {
   "cell_type": "code",
   "execution_count": 13,
   "metadata": {},
   "outputs": [],
   "source": [
    "def scale_observed(guess):\n",
    "    # Get weight from guess\n",
    "    weight = sample('weight', dist.Normal(guess, 1.))\n",
    "    \n",
    "    # Get measurement from weight, with observed data\n",
    "    measurement = sample('measurement', dist.Normal(weight, .75), obs=torch.tensor(9.5))\n",
    "    return measurement.item()"
   ]
  },
  {
   "cell_type": "code",
   "execution_count": 21,
   "metadata": {},
   "outputs": [
    {
     "name": "stderr",
     "output_type": "stream",
     "text": [
      "C:\\Users\\frazao\\Miniconda3\\envs\\ppl\\lib\\site-packages\\pyro\\primitives.py:138: RuntimeWarning: trying to observe a value outside of inference at measurement\n",
      "  warnings.warn(\n"
     ]
    },
    {
     "data": {
      "text/plain": [
       "9.5"
      ]
     },
     "execution_count": 21,
     "metadata": {},
     "output_type": "execute_result"
    }
   ],
   "source": [
    "scale_observed(torch.tensor(8.))"
   ]
  },
  {
   "cell_type": "markdown",
   "metadata": {},
   "source": [
    "**NOTE**:\n",
    "* these conditioned functions don't work for sampling anymore - just for optimizing an inference guide!"
   ]
  },
  {
   "cell_type": "markdown",
   "metadata": {},
   "source": [
    "* given the posterior on this is tractable, we can get directly the perfect guide (in general, we want to optimize for the parameters of such a guide)"
   ]
  },
  {
   "cell_type": "code",
   "execution_count": 22,
   "metadata": {},
   "outputs": [],
   "source": [
    "def perfect_guide(guess):\n",
    "    loc = (0.75**2 * guess + 9.5) / (1 + 0.75**2)  # 9.14\n",
    "    scale = np.sqrt(0.75**2 / (1 + 0.75**2))  # 0.6\n",
    "    return pyro.sample(\"weight\", dist.Normal(loc, scale))"
   ]
  },
  {
   "cell_type": "code",
   "execution_count": 53,
   "metadata": {},
   "outputs": [
    {
     "data": {
      "text/plain": [
       "tensor(8.9210)"
      ]
     },
     "execution_count": 53,
     "metadata": {},
     "output_type": "execute_result"
    }
   ],
   "source": [
    "perfect_guide(8.)"
   ]
  },
  {
   "cell_type": "markdown",
   "metadata": {},
   "source": [
    "## Param store"
   ]
  },
  {
   "cell_type": "markdown",
   "metadata": {},
   "source": [
    "### ex2. parameters"
   ]
  },
  {
   "cell_type": "code",
   "execution_count": 55,
   "metadata": {},
   "outputs": [],
   "source": [
    "def scale_parameterized_guide(guess):\n",
    "    # Define parameters for posterior\n",
    "    loc = param('loc', torch.tensor(guess))\n",
    "    scale_ = param('scale_', torch.tensor(1.), constraint=dist.constraints.positive)\n",
    "    \n",
    "    # Get weight from guess\n",
    "    weight = sample('weight', dist.Normal(loc, scale_))"
   ]
  },
  {
   "cell_type": "code",
   "execution_count": 57,
   "metadata": {},
   "outputs": [
    {
     "data": {
      "text/plain": [
       "dict_keys([])"
      ]
     },
     "execution_count": 57,
     "metadata": {},
     "output_type": "execute_result"
    }
   ],
   "source": [
    "pyro.get_param_store().keys()"
   ]
  },
  {
   "cell_type": "markdown",
   "metadata": {},
   "source": [
    "## SVI"
   ]
  },
  {
   "cell_type": "code",
   "execution_count": 59,
   "metadata": {},
   "outputs": [],
   "source": [
    "# Data\n",
    "guess = 8.5\n",
    "\n",
    "# Clear parameter store\n",
    "pyro.clear_param_store()\n",
    "\n",
    "# Set svi\n",
    "svi = infer.SVI(\n",
    "    model=conditioned_scale,\n",
    "    guide=scale_parameterized_guide,\n",
    "    optim=optim.Adam({'lr': 0.003}),\n",
    "    loss=infer.Trace_ELBO()\n",
    ")\n",
    "\n",
    "# Train\n",
    "losses, loc_list, scale_list = [], [], []\n",
    "\n",
    "for t in range(2500):\n",
    "    losses.append(svi.step(guess))\n",
    "    loc_list.append(param('loc').item())\n",
    "    scale_list.append(param('scale_').item())\n",
    "    "
   ]
  },
  {
   "cell_type": "code",
   "execution_count": 60,
   "metadata": {},
   "outputs": [
    {
     "data": {
      "image/png": "[encoded data removed]",
      "text/plain": [
       "<Figure size 432x288 with 1 Axes>"
      ]
     },
     "metadata": {
      "needs_background": "light"
     },
     "output_type": "display_data"
    }
   ],
   "source": [
    "plt.plot(losses)\n",
    "plt.title(\"ELBO\")\n",
    "plt.xlabel(\"step\")\n",
    "plt.ylabel(\"loss\");"
   ]
  },
  {
   "cell_type": "code",
   "execution_count": 62,
   "metadata": {},
   "outputs": [
    {
     "data": {
      "image/png": "[encoded data removed]",
      "text/plain": [
       "<Figure size 432x288 with 2 Axes>"
      ]
     },
     "metadata": {
      "needs_background": "light"
     },
     "output_type": "display_data"
    }
   ],
   "source": [
    "plt.subplot(1,2,1)\n",
    "plt.plot([0,2500],[9.14,9.14], 'k:')\n",
    "plt.plot(loc_list)\n",
    "plt.ylabel('loc')\n",
    "\n",
    "plt.subplot(1,2,2)\n",
    "plt.ylabel('scale')\n",
    "plt.plot([0,2500],[0.6,0.6], 'k:')\n",
    "plt.plot(scale_list)\n",
    "plt.tight_layout()"
   ]
  }
 ],
 "metadata": {
  "interpreter": {
   "hash": "ba6fa7d4b015855a412d1632c284c0c096a24858ef4cbe59a6b1cbcceee0d16f"
  },
  "kernelspec": {
   "display_name": "Python 3.9.7 64-bit ('ppl': conda)",
   "language": "python",
   "name": "python3"
  },
  "language_info": {
   "codemirror_mode": {
    "name": "ipython",
    "version": 3
   },
   "file_extension": ".py",
   "mimetype": "text/x-python",
   "name": "python",
   "nbconvert_exporter": "python",
   "pygments_lexer": "ipython3",
   "version": "3.9.7"
  },
  "orig_nbformat": 4
 },
 "nbformat": 4,
 "nbformat_minor": 2
}
