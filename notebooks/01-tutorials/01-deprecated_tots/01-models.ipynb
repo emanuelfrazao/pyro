{
 "cells": [
  {
   "cell_type": "markdown",
   "metadata": {},
   "source": [
    "[**AN INTRODUCTION TO MODELS IN PYRO**](http://pyro.ai/examples/intro_part_i.html#An-Introduction-to-Models-in-Pyro)"
   ]
  },
  {
   "cell_type": "code",
   "execution_count": 1,
   "metadata": {},
   "outputs": [],
   "source": [
    "import torch\n",
    "import pyro\n",
    "pyro.set_rng_seed(3)"
   ]
  },
  {
   "cell_type": "markdown",
   "metadata": {},
   "source": [
    "# Stochastic functions - models"
   ]
  },
  {
   "cell_type": "markdown",
   "metadata": {},
   "source": [
    "## Primitive stochastic functions"
   ]
  },
  {
   "cell_type": "markdown",
   "metadata": {},
   "source": [
    "* `primitive stochastic functions` are basically `{pyro, torch}.distributions` objects"
   ]
  },
  {
   "cell_type": "markdown",
   "metadata": {},
   "source": [
    "* **probabilistic programs** are built by composing **primitive stochastic functions** and **deterministic computation**."
   ]
  },
  {
   "cell_type": "markdown",
   "metadata": {},
   "source": [
    "### ex1. Unit normal"
   ]
  },
  {
   "cell_type": "code",
   "execution_count": 3,
   "metadata": {},
   "outputs": [],
   "source": [
    "# Set mean and std\n",
    "loc = 0.\n",
    "scale = 1.\n",
    "\n",
    "# Create distribution object - the primitive stochastic function\n",
    "normal = torch.distributions.Normal(0,1)"
   ]
  },
  {
   "cell_type": "code",
   "execution_count": 13,
   "metadata": {},
   "outputs": [
    {
     "name": "stdout",
     "output_type": "stream",
     "text": [
      "Sample 0.9774317741394043\n",
      "Log prob of getting sample: -1.3966249227523804\n"
     ]
    }
   ],
   "source": [
    "# Draw a sample\n",
    "x = normal.rsample()\n",
    "print(f'Sample {x}')\n",
    "print(f\"Log prob of getting sample: {normal.log_prob(x)}\")"
   ]
  },
  {
   "cell_type": "markdown",
   "metadata": {},
   "source": [
    "**NOTE**:\n",
    "* `pyro.distributions` objects are wrappers around `torch.distributions`"
   ]
  },
  {
   "cell_type": "markdown",
   "metadata": {},
   "source": [
    "### ex2. Simple weather model"
   ]
  },
  {
   "cell_type": "code",
   "execution_count": 29,
   "metadata": {},
   "outputs": [],
   "source": [
    "def weather1():\n",
    "    \n",
    "    # Sample how the sky is\n",
    "    sky = torch.distributions.Bernoulli(.3).sample()\n",
    "    sky = 'cloudy' if sky.item() == 1. else 'sunny'\n",
    "    return sky"
   ]
  },
  {
   "cell_type": "code",
   "execution_count": 35,
   "metadata": {},
   "outputs": [
    {
     "data": {
      "text/plain": [
       "['sunny', 'sunny', 'sunny', 'cloudy', 'cloudy']"
      ]
     },
     "execution_count": 35,
     "metadata": {},
     "output_type": "execute_result"
    }
   ],
   "source": [
    "[weather1() for i in range(5)]"
   ]
  },
  {
   "cell_type": "code",
   "execution_count": 28,
   "metadata": {},
   "outputs": [],
   "source": [
    "def weather2():\n",
    "    \n",
    "    # Sample how the sky is\n",
    "    sky = torch.distributions.Bernoulli(.3).sample()\n",
    "    sky = 'cloudy' if sky.item() == 1. else 'sunny'\n",
    "    \n",
    "    # Sample temperature based on sky\n",
    "    sky2temp = {\n",
    "        'cloudy': (55., 10.),\n",
    "        'sunny': (75., 15.)\n",
    "    }\n",
    "    \n",
    "    temp = torch.distributions.Normal(*sky2temp[sky]).rsample()\n",
    "    \n",
    "    return sky, temp.item()"
   ]
  },
  {
   "cell_type": "code",
   "execution_count": 37,
   "metadata": {},
   "outputs": [
    {
     "data": {
      "text/plain": [
       "[('cloudy', 66.80128479003906),\n",
       " ('cloudy', 50.844390869140625),\n",
       " ('sunny', 67.84062957763672),\n",
       " ('sunny', 66.93984985351562),\n",
       " ('cloudy', 59.198150634765625)]"
      ]
     },
     "execution_count": 37,
     "metadata": {},
     "output_type": "execute_result"
    }
   ],
   "source": [
    "[weather2() for i in range(5)]"
   ]
  },
  {
   "cell_type": "markdown",
   "metadata": {},
   "source": [
    "## `pyro.sample` Primitive"
   ]
  },
  {
   "cell_type": "markdown",
   "metadata": {},
   "source": [
    "* to turn general stochastic functions into Pyro programs, we need to replace:\n",
    "    * `torch.distributions` with `pyro.distributions`\n",
    "    * `*.sample()` and `*.rsample()` with `pyro.sample(<name>, *)`"
   ]
  },
  {
   "cell_type": "markdown",
   "metadata": {},
   "source": [
    "### ex2. pyro-weather"
   ]
  },
  {
   "cell_type": "code",
   "execution_count": 39,
   "metadata": {},
   "outputs": [],
   "source": [
    "def pyro_weather():\n",
    "    \n",
    "    # Sample how the sky is\n",
    "    sky = pyro.sample('sky', pyro.distributions.Bernoulli(.3))\n",
    "    sky = 'cloudy' if sky.item() == 1. else 'sunny'\n",
    "    \n",
    "    # Sample temperature based on sky\n",
    "    sky2temp = {\n",
    "        'cloudy': (55., 10.),\n",
    "        'sunny': (75., 15.)\n",
    "    }\n",
    "    \n",
    "    temp = pyro.sample('temp', pyro.distributions.Normal(*sky2temp[sky]))\n",
    "    \n",
    "    return sky, temp.item()"
   ]
  },
  {
   "cell_type": "code",
   "execution_count": 40,
   "metadata": {},
   "outputs": [
    {
     "data": {
      "text/plain": [
       "[('sunny', 64.62797546386719),\n",
       " ('sunny', 57.524993896484375),\n",
       " ('sunny', 64.90321350097656),\n",
       " ('sunny', 74.11502075195312),\n",
       " ('cloudy', 68.44393920898438)]"
      ]
     },
     "execution_count": 40,
     "metadata": {},
     "output_type": "execute_result"
    }
   ],
   "source": [
    "[pyro_weather() for i in range(5)]"
   ]
  },
  {
   "cell_type": "markdown",
   "metadata": {},
   "source": [
    "**NOTE**:\n",
    "* now, `pyro_weather()` specifies a joint probability distribution of `sky` and `temp` - say, $P(sky, temp) = P(temp|sky)P(sky)$"
   ]
  },
  {
   "cell_type": "markdown",
   "metadata": {},
   "source": [
    "* we can now ask: if I observe a temperature of 70 degrees, how likely is it to be cloudy? - say, $P(sky=\\text{cloudy}|temp=70)$"
   ]
  },
  {
   "cell_type": "markdown",
   "metadata": {},
   "source": [
    "* in theory, $P(sky=\\text{cloudy}|temp=70) = \\frac{P(sky=\\text{cloudy},temp=70)}{P(temp=70)} = \n",
    "\\frac{P(sky=\\text{cloudy},temp=70)}{P(sky=\\text{cloudy},temp=70)P(sky=\\text{sunny},temp=70)}$"
   ]
  },
  {
   "cell_type": "markdown",
   "metadata": {},
   "source": [
    "* pyro helps solve this numerically - with variational inference!"
   ]
  },
  {
   "cell_type": "markdown",
   "metadata": {},
   "source": [
    "## Stochastic recursion"
   ]
  },
  {
   "cell_type": "markdown",
   "metadata": {},
   "source": [
    "* we can now compose these things"
   ]
  },
  {
   "cell_type": "markdown",
   "metadata": {},
   "source": [
    "### ex3. Ice-cream sales"
   ]
  },
  {
   "cell_type": "code",
   "execution_count": 44,
   "metadata": {},
   "outputs": [],
   "source": [
    "def ice_cream_sales():\n",
    "    # Call stochastic function\n",
    "    sky, temp = pyro_weather()\n",
    "    \n",
    "    # Expected sales based on weather\n",
    "    expected_sales = 200. if sky == 'sunny' and temp > 80. else 50.\n",
    "    \n",
    "    # Stochastic ice cream sales\n",
    "    sales = pyro.sample('sales', pyro.distributions.Normal(expected_sales, 10.))\n",
    "    return sales.item()\n",
    "    \n",
    "    "
   ]
  },
  {
   "cell_type": "code",
   "execution_count": 45,
   "metadata": {},
   "outputs": [
    {
     "data": {
      "text/plain": [
       "[51.20252227783203,\n",
       " 30.857507705688477,\n",
       " 44.13951110839844,\n",
       " 40.52595138549805,\n",
       " 39.3331413269043,\n",
       " 45.06064224243164,\n",
       " 53.64537811279297,\n",
       " 185.06890869140625,\n",
       " 51.9947509765625,\n",
       " 65.69964599609375]"
      ]
     },
     "execution_count": 45,
     "metadata": {},
     "output_type": "execute_result"
    }
   ],
   "source": [
    "[ice_cream_sales() for i in range(10)]"
   ]
  },
  {
   "cell_type": "markdown",
   "metadata": {},
   "source": [
    "## Random control flow"
   ]
  },
  {
   "cell_type": "markdown",
   "metadata": {},
   "source": [
    "* and use any control flow statements"
   ]
  },
  {
   "cell_type": "markdown",
   "metadata": {},
   "source": [
    "### ex4. random control flow"
   ]
  },
  {
   "cell_type": "code",
   "execution_count": 46,
   "metadata": {},
   "outputs": [],
   "source": [
    "def geometric(p, t=None):\n",
    "    t = t or 0\n",
    "    \n",
    "    x = pyro.sample(f'x_{t}', pyro.distributions.Bernoulli(p))\n",
    "    \n",
    "    if x.item() == 1:\n",
    "        return 0\n",
    "    else:\n",
    "        return 1 + geometric(p, t+1)"
   ]
  },
  {
   "cell_type": "code",
   "execution_count": 83,
   "metadata": {},
   "outputs": [
    {
     "data": {
      "text/plain": [
       "(2.325, 2.3333333333333335)"
      ]
     },
     "execution_count": 83,
     "metadata": {},
     "output_type": "execute_result"
    }
   ],
   "source": [
    "sum(geometric(.3) for i in range(200)) / 200, 1/.3*.7"
   ]
  },
  {
   "cell_type": "markdown",
   "metadata": {},
   "source": [
    "## Hierachical functions"
   ]
  },
  {
   "cell_type": "markdown",
   "metadata": {},
   "source": [
    "* or functions that return functions, whatever"
   ]
  }
 ],
 "metadata": {
  "interpreter": {
   "hash": "c66e0087a40091d6f138432c06350ca1ba0f29a813022b432639a1c463d639b1"
  },
  "kernelspec": {
   "display_name": "Python 3.9.5 64-bit ('base': conda)",
   "language": "python",
   "name": "python3"
  },
  "language_info": {
   "codemirror_mode": {
    "name": "ipython",
    "version": 3
   },
   "file_extension": ".py",
   "mimetype": "text/x-python",
   "name": "python",
   "nbconvert_exporter": "python",
   "pygments_lexer": "ipython3",
   "version": "3.9.7"
  },
  "orig_nbformat": 4
 },
 "nbformat": 4,
 "nbformat_minor": 2
}
