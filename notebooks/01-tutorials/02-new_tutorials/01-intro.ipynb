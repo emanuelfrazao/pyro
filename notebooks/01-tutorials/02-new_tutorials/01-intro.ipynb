{
 "cells": [
  {
   "cell_type": "markdown",
   "metadata": {},
   "source": [
    "[**INTRODUCTION TO PYRO**](http://pyro.ai/examples/intro_long.html)"
   ]
  },
  {
   "cell_type": "markdown",
   "metadata": {},
   "source": [
    "# Setup"
   ]
  },
  {
   "cell_type": "markdown",
   "metadata": {},
   "source": [
    "## Modules"
   ]
  },
  {
   "cell_type": "code",
   "execution_count": 1,
   "metadata": {},
   "outputs": [],
   "source": [
    "import logging\n",
    "import typing\n",
    "\n",
    "import torch\n",
    "import numpy as np\n",
    "import pandas as pd\n",
    "import seaborn as sns\n",
    "import matplotlib.pyplot as plt\n",
    "from matplotlib import rc\n",
    "\n",
    "import pyro\n",
    "import pyro.distributions as dist"
   ]
  },
  {
   "cell_type": "code",
   "execution_count": 2,
   "metadata": {},
   "outputs": [
    {
     "name": "stdout",
     "output_type": "stream",
     "text": [
      "Last updated: Mon Jan 17 2022\n",
      "\n",
      "Python implementation: CPython\n",
      "Python version       : 3.9.7\n",
      "IPython version      : 7.29.0\n",
      "\n",
      "logging   : 0.5.1.2\n",
      "matplotlib: 3.4.3\n",
      "sys       : 3.9.7 (default, Sep 16 2021, 16:59:28) [MSC v.1916 64 bit (AMD64)]\n",
      "seaborn   : 0.11.2\n",
      "pyro      : 1.8.0\n",
      "torch     : 1.10.0\n",
      "pandas    : 1.3.4\n",
      "numpy     : 1.21.2\n",
      "\n",
      "Watermark: 2.3.0\n",
      "\n"
     ]
    }
   ],
   "source": [
    "%load_ext watermark\n",
    "%watermark -n -u -v -iv -w"
   ]
  },
  {
   "cell_type": "code",
   "execution_count": 3,
   "metadata": {},
   "outputs": [
    {
     "name": "stderr",
     "output_type": "stream",
     "text": [
      "2022-01-17 13:34:28,186 | Try log\n"
     ]
    }
   ],
   "source": [
    "# Pyro version\n",
    "assert pyro.__version__.startswith('1.8.0')\n",
    "\n",
    "# Pyro settings\n",
    "pyro.enable_validation(True)\n",
    "pyro.set_rng_seed(1)\n",
    "\n",
    "# Logging settings\n",
    "log = logging.getLogger('basic')\n",
    "log.setLevel(logging.DEBUG)\n",
    "log_handler = logging.StreamHandler()\n",
    "log_handler.setFormatter(logging.Formatter('{asctime} | {message}', style=\"{\"))\n",
    "log.addHandler(log_handler)\n",
    "log.debug('Try log')\n",
    "\n",
    "# Set plotting settings\n",
    "%matplotlib inline\n",
    "plt.style.use('default')"
   ]
  },
  {
   "cell_type": "markdown",
   "metadata": {},
   "source": [
    "# Background"
   ]
  },
  {
   "cell_type": "markdown",
   "metadata": {},
   "source": [
    "## Probabilistic models"
   ]
  },
  {
   "cell_type": "markdown",
   "metadata": {},
   "source": [
    "* Funny statement: data analysis problems may be understood by answering 3 questions:\n",
    "    * What do we **know** about the problem **before seeing the data**?\n",
    "    * What **conslusions** can we **take from data** *given* our **prior knowledge**?\n",
    "    * Do the **conslusions make sense**?"
   ]
  },
  {
   "cell_type": "markdown",
   "metadata": {},
   "source": [
    "* In order to approach the problem probabilistically, we need to:\n",
    "    * Setting a `probabilistic model`, by defining:\n",
    "        * The `variables` in a problem\n",
    "        * The `relationships` between them **&/or** a `joint probability distribution` over the collection of variables"
   ]
  },
  {
   "cell_type": "markdown",
   "metadata": {},
   "source": [
    "* `Variables` could be further divided between:\n",
    "    * `Observed variables`: the ones one can **get data on/instances of** - call it $x$\n",
    "    * `Latent variables`: said unobserved, the ones **we don't have instances of** - call it $z$"
   ]
  },
  {
   "cell_type": "markdown",
   "metadata": {},
   "source": [
    "* When building a `generative model` of the problem/process, one is to give a `joint probability distribution` over the variables, with some additional parameters $\\theta$, i.e.:\n",
    "    * a `prior` for the `latent variables`: $p_\\theta(z)$\n",
    "    * a `likelihood` for seeing `observed variables` given the `latent`: $p_\\theta(x|z)$\n",
    "    * finally, the joint: $$p_\\theta(x, z) = p_\\theta(x|z) \\times p_\\theta(z)$$"
   ]
  },
  {
   "cell_type": "markdown",
   "metadata": {},
   "source": [
    "* Inference on the `latent variables`, considering the data on the `observed` ones, is then carried by finding the `posterior`: $$p_\\theta(z|x)=\\frac{p_\\theta(x,z)}{p_\\theta(x)}=\\frac{p_\\theta(x|z)p_\\theta(z)}{\\int p_\\theta(x,z) dz}$$"
   ]
  },
  {
   "cell_type": "markdown",
   "metadata": {},
   "source": [
    "* The `true posterior` is intractable to calculate for any non-trivial problem - for the integral -, but there are many *approximate inference* methods developed to approximate it:\n",
    "    * Grid\n",
    "    * Monte Carlo\n",
    "    * Laplace/quadratic\n",
    "    * Variational"
   ]
  },
  {
   "cell_type": "markdown",
   "metadata": {},
   "source": [
    "* `Variational inference` methods usually require that (considering the probabilities $p_i$ that make up $p_\\theta(x,z)$):\n",
    "    * one can efficiently **sample** from $p_i$\n",
    "    * one can efficiently **compute the pointwise probability density** $p_i$\n",
    "    * $p_i$ is differentiable wrt the parameters $\\theta$"
   ]
  },
  {
   "cell_type": "markdown",
   "metadata": {},
   "source": [
    "* One can then do **predictions for new data**, via the `posterior predictive distribution`: \n",
    "$$p_\\theta(x'|x) = \\int_z p_\\theta(z,x'|x) = \\int_z p_\\theta(x'|z)p_\\theta(z|x)$$"
   ]
  },
  {
   "cell_type": "markdown",
   "metadata": {},
   "source": [
    "* One can also find the parameters $\\theta$ that maximize `evidence`, i.e, find:\n",
    "$$\\theta_{\\text{max}}=\\argmax_\\theta p_\\theta(x) = \\argmax_\\theta \\int_z p_\\theta(x, z)$$"
   ]
  },
  {
   "cell_type": "markdown",
   "metadata": {},
   "source": [
    "# Models in `pyro`"
   ]
  },
  {
   "cell_type": "markdown",
   "metadata": {},
   "source": [
    "* `Pyro` models are specified as `python` functions that:\n",
    "    * generate `observed data` from `latent variables` (and `parameters`?)\n",
    "    * this is carried by the use of `pyro primitives` (more on later)"
   ]
  },
  {
   "cell_type": "markdown",
   "metadata": {},
   "source": [
    "* A `pyro` model is then encoded via the correspondence:\n",
    "    * `latent variable` $z$ $\\Leftrightarrow$ `pyro.sample('z', <distribution>)`\n",
    "    * `observable variable` $x$ $\\Leftrightarrow$ `pyro.sample('x', <distribution>, obs=x)`\n",
    "    * `learnable parameter` $\\theta$ $\\Leftrightarrow$ `pyro.param('theta', <value>, constraint=<constraint>)`\n",
    "    * `plates` (to be talked) $\\Leftrightarrow$ `pyro.plate` context manager"
   ]
  },
  {
   "cell_type": "markdown",
   "metadata": {},
   "source": [
    "* As an example, consider the model:\n",
    "    * $Z \\sim Beta(a,b)$\n",
    "    * $X|Z \\sim Bernoulli(Z)$"
   ]
  },
  {
   "cell_type": "markdown",
   "metadata": {},
   "source": [
    "* In which \n",
    "    * $a$ and $b$ are both `parameters` - that *influence* $Z$\n",
    "    * $Z$ is a `latent variable`: could be, e.g., the *probability* of heads for a given coin\n",
    "    * $X$ is an `observable variable`: could be, e.g., the *measurable* fact of whether the given coin lands heads"
   ]
  },
  {
   "cell_type": "markdown",
   "metadata": {},
   "source": [
    "* A `pyro model` corresponding to the `likelihood` of $X$ could then be set as:"
   ]
  },
  {
   "cell_type": "code",
   "execution_count": 24,
   "metadata": {},
   "outputs": [],
   "source": [
    "pyro.clear_param_store()\n",
    "def coin_likelihood():\n",
    "    # Set parameters\n",
    "    a = pyro.param('a', torch.tensor(1))\n",
    "    b = pyro.param('b', torch.tensor(1))\n",
    "    \n",
    "    # Sample latent variable\n",
    "    z = pyro.sample('z', dist.Beta(a, b))\n",
    "    \n",
    "    # Sample observable variable\n",
    "    x = pyro.sample('x', dist.Binomial(1, z))\n",
    "    return x\n",
    "    "
   ]
  },
  {
   "cell_type": "markdown",
   "metadata": {},
   "source": [
    "* If we want to stress the fact that $X$ is an `observable variable` - for `pyro` machinery to work on - we then write:"
   ]
  },
  {
   "cell_type": "code",
   "execution_count": 25,
   "metadata": {},
   "outputs": [],
   "source": [
    "pyro.clear_param_store()\n",
    "def coin_joint(coin_result: typing.Literal[0,1]):\n",
    "    # Set parameters\n",
    "    a = pyro.param('a', torch.tensor(1), constraint=dist.constraints.positive)\n",
    "    b = pyro.param('b', torch.tensor(1), constraint=dist.constraints.positive)\n",
    "    \n",
    "    # Sample latent variable\n",
    "    z = pyro.sample('z', dist.Beta(a, b))\n",
    "    \n",
    "    # Sample observable variable\n",
    "    x = pyro.sample('x', dist.Binomial(1, z), obs=torch.tensor(coin_result))\n",
    "    return x"
   ]
  },
  {
   "cell_type": "markdown",
   "metadata": {},
   "source": [
    "* Now, this function `coin_joint` does not work anymore to produce data samples of $X$: it will always output its input"
   ]
  },
  {
   "cell_type": "code",
   "execution_count": 27,
   "metadata": {},
   "outputs": [
    {
     "data": {
      "text/plain": [
       "[tensor(1), tensor(1), tensor(1), tensor(1), tensor(1)]"
      ]
     },
     "execution_count": 27,
     "metadata": {},
     "output_type": "execute_result"
    }
   ],
   "source": [
    "[coin_joint(1) for i in range(5)]"
   ]
  },
  {
   "cell_type": "code",
   "execution_count": 28,
   "metadata": {},
   "outputs": [
    {
     "data": {
      "text/plain": [
       "[tensor(0), tensor(0), tensor(0), tensor(0), tensor(0)]"
      ]
     },
     "execution_count": 28,
     "metadata": {},
     "output_type": "execute_result"
    }
   ],
   "source": [
    "[coin_joint(0) for i in range(5)]"
   ]
  },
  {
   "cell_type": "markdown",
   "metadata": {},
   "source": [
    "* But it tells `pyro` the relationship between the variables set with `param` and `sample` statements: be it parameters, latent variables, or observed variables"
   ]
  },
  {
   "cell_type": "code",
   "execution_count": 29,
   "metadata": {},
   "outputs": [
    {
     "data": {
      "image/svg+xml": "<?xml version=\"1.0\" encoding=\"UTF-8\" standalone=\"no\"?>\n<!DOCTYPE svg PUBLIC \"-//W3C//DTD SVG 1.1//EN\"\n \"http://www.w3.org/Graphics/SVG/1.1/DTD/svg11.dtd\">\n<!-- Generated by graphviz version 2.50.0 (20211204.2007)\n -->\n<!-- Pages: 1 -->\n<svg width=\"168pt\" height=\"118pt\"\n viewBox=\"0.00 0.00 167.50 118.00\" xmlns=\"http://www.w3.org/2000/svg\" xmlns:xlink=\"http://www.w3.org/1999/xlink\">\n<g id=\"graph0\" class=\"graph\" transform=\"scale(1 1) rotate(0) translate(4 114)\">\n<polygon fill=\"white\" stroke=\"transparent\" points=\"-4,4 -4,-114 163.5,-114 163.5,4 -4,4\"/>\n<!-- z -->\n<g id=\"node1\" class=\"node\">\n<title>z</title>\n<ellipse fill=\"white\" stroke=\"black\" cx=\"27\" cy=\"-91\" rx=\"27\" ry=\"18\"/>\n<text text-anchor=\"middle\" x=\"27\" y=\"-87.3\" font-family=\"Times New Roman,serif\" font-size=\"14.00\">z</text>\n</g>\n<!-- x -->\n<g id=\"node2\" class=\"node\">\n<title>x</title>\n<ellipse fill=\"grey\" stroke=\"black\" cx=\"27\" cy=\"-18\" rx=\"27\" ry=\"18\"/>\n<text text-anchor=\"middle\" x=\"27\" y=\"-14.3\" font-family=\"Times New Roman,serif\" font-size=\"14.00\">x</text>\n</g>\n<!-- z&#45;&gt;x -->\n<g id=\"edge1\" class=\"edge\">\n<title>z&#45;&gt;x</title>\n<path fill=\"none\" stroke=\"black\" d=\"M27,-72.81C27,-64.79 27,-55.05 27,-46.07\"/>\n<polygon fill=\"black\" stroke=\"black\" points=\"30.5,-46.03 27,-36.03 23.5,-46.03 30.5,-46.03\"/>\n</g>\n<!-- distribution_description_node -->\n<g id=\"node3\" class=\"node\">\n<title>distribution_description_node</title>\n<text text-anchor=\"start\" x=\"80.5\" y=\"-94.8\" font-family=\"Times New Roman,serif\" font-size=\"14.00\">z ~ Beta</text>\n<text text-anchor=\"start\" x=\"80.5\" y=\"-79.8\" font-family=\"Times New Roman,serif\" font-size=\"14.00\">x ~ Binomial</text>\n</g>\n</g>\n</svg>\n",
      "text/plain": [
       "<graphviz.graphs.Digraph at 0x2442884fd60>"
      ]
     },
     "execution_count": 29,
     "metadata": {},
     "output_type": "execute_result"
    }
   ],
   "source": [
    "pyro.render_model(coin_joint, model_args=(1,), render_distributions=True)"
   ]
  },
  {
   "cell_type": "markdown",
   "metadata": {},
   "source": [
    "* BEAUTIFUL!"
   ]
  },
  {
   "cell_type": "markdown",
   "metadata": {},
   "source": [
    "# Pyro primitives"
   ]
  },
  {
   "cell_type": "markdown",
   "metadata": {},
   "source": [
    "## `pyro.sample`"
   ]
  },
  {
   "cell_type": "markdown",
   "metadata": {},
   "source": [
    "* `pyro.sample` is used to represent `primitive probability distributions` on both:\n",
    "    * latent variables: by specifying its name, distribution, and observation (or later conditioning it)\n",
    "    * observed variables: by specifying its name and distribution"
   ]
  },
  {
   "cell_type": "markdown",
   "metadata": {},
   "source": [
    "* It is initialized with the signature:\n",
    "```python\n",
    "def sample(\n",
    "    name: str,\n",
    "    distribution: pyro.distributions.Distribution,\n",
    "    *,\n",
    "    obs: typing.Optional[torch.Tensor] = None,\n",
    "    infer: typing.Optional[dict] = None\n",
    ") -> torch.Tensor:\n",
    "```"
   ]
  },
  {
   "cell_type": "markdown",
   "metadata": {},
   "source": [
    "* In which:\n",
    "    * the `name` kwarg is the name of the variable to represent\n",
    "    * the `distribution` kwarg corresponds to its distribution\n",
    "    * the `obs`, if set, is used to signal that the variable is *observed*, and stores the corresponding observation"
   ]
  },
  {
   "cell_type": "markdown",
   "metadata": {},
   "source": [
    "* The statement \n",
    "```python\n",
    "        pyro.sample('x', dist.Bernoulli(z))\n",
    "```\n",
    "works as a wraper on\n",
    "```python\n",
    "        dist.Bernoulli(z).sample()\n",
    "```\n",
    "in which `'x'` is also added to the `pyro` parameter store, for being used in `pyro`'s internals"
   ]
  },
  {
   "cell_type": "markdown",
   "metadata": {},
   "source": [
    "* It basically represents to `pyro` that `x` is a variable conditioned on `z`, following the given distribution"
   ]
  },
  {
   "cell_type": "markdown",
   "metadata": {},
   "source": [
    "* If we further wish to specify that `x` is an `observable variable`, we have 2 options:\n",
    "* feeding the `obs` keyword with a value, as in:\n",
    "```python\n",
    "            pyro.sample('x', dist.Bernoulli(z), obs=x)\n",
    "```\n",
    "\n",
    "* later conditioning `'x'` on given values `x`, using the higher-order `pyro` primitive `condition`, in which:\n",
    "    * `pyro.condition(coin_likelihood, data={'x': coin_result})` is basically equivalent to `coin_joint`"
   ]
  },
  {
   "cell_type": "markdown",
   "metadata": {},
   "source": [
    "## `pyro.param`"
   ]
  },
  {
   "cell_type": "markdown",
   "metadata": {},
   "source": [
    "* `pyro.param` may be regarded as the **frontend** with `pyro`'s [*parameter store*](https://docs.pyro.ai/en/stable/parameters.html#pyro.params.param_store.ParamStoreDict)"
   ]
  },
  {
   "cell_type": "markdown",
   "metadata": {},
   "source": [
    "* It is initialized with the signature:\n",
    "```python\n",
    "pyro.param(\n",
    "    name: str,\n",
    "    *args,\n",
    "    init: Optional[Union[torch.Tensor, Callable[..., torch.Tensor]]] = None,\n",
    "    constraint: Optional[pyro.distributions.constraints.Constraint] = constraints.real\n",
    ") -> torch.Tensor\n",
    "```"
   ]
  },
  {
   "cell_type": "markdown",
   "metadata": {},
   "source": [
    "* In which:\n",
    "    * the `name` kwarg is required, and represents the key to the parameter store - if within a `pyro.module`, it is prefixed with the module's name\n",
    "    * the `init` kwarg is the value for the first time the parameter is stored - if it is a callable, it takes the arguments given as *args\n",
    "    * the `constraint` kwarg is the way in which the parameter values can be constrained, for training\n",
    "    * `pyro` parameters are updated via optimization algorithms through some method we'll eventually see!"
   ]
  },
  {
   "cell_type": "code",
   "execution_count": 30,
   "metadata": {},
   "outputs": [
    {
     "data": {
      "text/plain": [
       "tensor([1., 1., 1., 1.], requires_grad=True)"
      ]
     },
     "execution_count": 30,
     "metadata": {},
     "output_type": "execute_result"
    }
   ],
   "source": [
    "pyro.clear_param_store()\n",
    "pyro.param('a', torch.ones((2,)))\n",
    "pyro.param('b', torch.ones((4,)))"
   ]
  },
  {
   "cell_type": "code",
   "execution_count": 31,
   "metadata": {},
   "outputs": [
    {
     "data": {
      "text/plain": [
       "tensor([1., 1.], requires_grad=True)"
      ]
     },
     "execution_count": 31,
     "metadata": {},
     "output_type": "execute_result"
    }
   ],
   "source": [
    "pyro.param('a')"
   ]
  },
  {
   "cell_type": "code",
   "execution_count": 32,
   "metadata": {},
   "outputs": [
    {
     "data": {
      "text/plain": [
       "tensor([1., 1.], requires_grad=True)"
      ]
     },
     "execution_count": 32,
     "metadata": {},
     "output_type": "execute_result"
    }
   ],
   "source": [
    "# reassinging 'a' directly doesn't change the value, just returns the value that was stored!\n",
    "pyro.param('a', torch.tensor(3))"
   ]
  },
  {
   "cell_type": "code",
   "execution_count": 33,
   "metadata": {},
   "outputs": [
    {
     "data": {
      "text/plain": [
       "tensor([ 2.0033, -0.6867, -1.1242], grad_fn=<AddBackward0>)"
      ]
     },
     "execution_count": 33,
     "metadata": {},
     "output_type": "execute_result"
    }
   ],
   "source": [
    "def try_model():\n",
    "    c = pyro.param('c', torch.randn(3))\n",
    "    return pyro.sample('out', dist.Normal(c, 1))\n",
    "try_model()"
   ]
  },
  {
   "cell_type": "code",
   "execution_count": 34,
   "metadata": {},
   "outputs": [
    {
     "name": "stderr",
     "output_type": "stream",
     "text": [
      "2022-01-17 13:36:04,703 | Param store item: ('a', tensor([1., 1.], requires_grad=True))\n",
      "2022-01-17 13:36:04,703 | Param store item: ('b', tensor([1., 1., 1., 1.], requires_grad=True))\n",
      "2022-01-17 13:36:04,703 | Param store item: ('c', tensor([ 0.8662, -0.3528,  0.3482], requires_grad=True))\n"
     ]
    }
   ],
   "source": [
    "for item in pyro.get_param_store().items():\n",
    "    log.info(f'Param store item: {item}')"
   ]
  },
  {
   "cell_type": "markdown",
   "metadata": {},
   "source": [
    "## `pyro.plate`"
   ]
  },
  {
   "cell_type": "markdown",
   "metadata": {},
   "source": [
    "* `pyro.plate` is `pyro`'s *formal* representation of **plate notation** "
   ]
  },
  {
   "cell_type": "markdown",
   "metadata": {},
   "source": [
    "* It is initialized with the signature:\n",
    "```python\n",
    "def plate(\n",
    "    name: str,\n",
    "    size: int,\n",
    "    *,\n",
    "    dim: Optional[int] = None,\n",
    "    **other_kwargs\n",
    ") -> contextlib.AbstractContextManager:\n",
    "```"
   ]
  },
  {
   "cell_type": "markdown",
   "metadata": {},
   "source": [
    "* In which:\n",
    "    * the `name` kwarg represents the name of a (usually multidimensional) variable\n",
    "    * the `size` kwarg is then the dimension of the variable\n",
    "    * the `dim` represents the block size (I guess)"
   ]
  },
  {
   "cell_type": "markdown",
   "metadata": {},
   "source": [
    "* It can be used as:\n",
    "```python\n",
    "with pyro.plate(\"data\", len(ruggedness)):\n",
    "    return pyro.sample(\"obs\", dist.Normal(mean, sigma), obs=log_gdp)\n",
    "```"
   ]
  },
  {
   "cell_type": "markdown",
   "metadata": {},
   "source": [
    "# Inference"
   ]
  },
  {
   "cell_type": "markdown",
   "metadata": {},
   "source": [
    "## Theory"
   ]
  },
  {
   "cell_type": "markdown",
   "metadata": {},
   "source": [
    "* In this context, `inference` means leveraging information for divising:\n",
    "    * the `posterior` distribution, i.e., the distribution over the latent variables\n",
    "    * the `parameters` that maximize evidence of the data seen"
   ]
  },
  {
   "cell_type": "markdown",
   "metadata": {},
   "source": [
    "* Apparently, `pyro` supports several exact and approximate inference algorithms, but the one with most support is `variational inference`"
   ]
  },
  {
   "cell_type": "markdown",
   "metadata": {},
   "source": [
    "* The goal of `variational inference` is bi-headed:\n",
    "    * finding $\\theta_{\\text{max}}$\n",
    "    * finding the `variational distribution` $q_\\phi(z)$ - a tractable approximation to the true unkown posterior $p_{\\theta_\\text{max}}(x|z)$"
   ]
  },
  {
   "cell_type": "markdown",
   "metadata": {},
   "source": [
    "* The `variational distribution` $q_\\phi(z)$ - called `guide` in `pyro` - is defined as:\n",
    "    * belonging to some parameterized family of distributions $Q_\\Phi = \\{q_\\phi: \\phi \\in \\Phi\\}$\n",
    "    * being the closest (according to $\\mathbb{KL}\\text{-divergence}$) to the posterior distribution, i.e.:\n",
    "    $$q_\\phi(z) = \\argmin_{\\phi \\in \\Phi} \\mathbb{KL}(q_\\phi(z)||p_\\theta(z|x))$$"
   ]
  },
  {
   "cell_type": "markdown",
   "metadata": {},
   "source": [
    "* * Since the $\\mathbb{KL}\\text{-divergence}$, as is, is still intractable - it depends on the posterior (which is assumed intractable) - we can decompose it as:\n",
    "\n",
    "$\\begin{align}\n",
    "\\mathbb{KL}(q_\\phi(z)||p_\\theta(z|x)) & = \\mathbb{E}_{q_\\phi}[\\log(\\frac{q_\\phi(z)}{p_\\theta(z|x)})] \\\\\n",
    "& = \\mathbb{E}_{q_\\phi}[\\log(\\frac{q_\\phi(z)p_\\theta(x)}{p_\\theta(x,z)})] \\\\\n",
    "& = \\mathbb{E}_{q_\\phi}[\\log(q_\\phi(z))]  - \\mathbb{E}_{q_\\phi}[\\log(p_\\theta(x,z))] + \\log(p_\\theta(x))\n",
    "\\end{align}$"
   ]
  },
  {
   "cell_type": "markdown",
   "metadata": {},
   "source": [
    "* Then:\n",
    "    * minimizing $\\mathbb{KL}(q_\\phi(z)||p_\\theta(z|x))$ wrt $\\phi$ amounts to minimize $\\mathbb{E}_{q_\\phi}[\\log(q_\\phi(z))]  - \\mathbb{E}_{q_\\phi}[\\log(p_\\theta(x,z))]$\n",
    "    * since $\\log(p_\\theta(x))$ is a constant wrt $\\phi$"
   ]
  },
  {
   "cell_type": "markdown",
   "metadata": {},
   "source": [
    "* By defining $$\\text{ELBO}(\\phi, \\theta)\\equiv \\mathbb{E}_{q_\\phi}[\\log(p_\\theta(x,z))] - \\mathbb{E}_{q_\\phi}[\\log(q_\\phi(z))]$$\n",
    "* We assert that `minimizing` $\\mathbb{KL}(q_\\phi(z)||p_\\theta(z|x))$ equates to `maximizing` $\\text{ELBO}(\\phi, \\theta)$"
   ]
  },
  {
   "cell_type": "markdown",
   "metadata": {},
   "source": [
    "## Implementation in `pyro`"
   ]
  },
  {
   "cell_type": "markdown",
   "metadata": {},
   "source": [
    "* We represent the `guide` in `pyro` the same way we do for the `model`, with the following characteristics:\n",
    "    * the `guide` does not depend on the data - hence it has no `observation` data\n",
    "    * the `guide` must have the same argument signature as the `model` - this is enforced by `pyro` itself\n",
    "    * the `guide` must have a `pyro.sample` statement corresponding to each `latent variable` sampled in the model:\n",
    "        * the names given to the variables must be the same in the `guide` and the `model`, in a 1-to-1 correspondence\n",
    "        * the distributions may be (and usually are) different "
   ]
  },
  {
   "cell_type": "markdown",
   "metadata": {},
   "source": [
    "* `Pyro` also offers `autoguides` automatically generated from the `model`"
   ]
  },
  {
   "cell_type": "markdown",
   "metadata": {},
   "source": [
    "## Inference algorithms"
   ]
  },
  {
   "cell_type": "markdown",
   "metadata": {},
   "source": [
    "* Finding the maximizer of the $\\text{ELBO}$ wrt $\\phi$ and $\\theta$ is an iterative process\n",
    "* There are several methods for the iteration"
   ]
  },
  {
   "cell_type": "markdown",
   "metadata": {},
   "source": [
    "* The main assumptions that `pyro`'s inference methods relly upon are:\n",
    "    * the fact that the `guide` is a parameterized distribution from which we can sample from, such that:\n",
    "        * we can compute Monte Carlo estimates of the $\\text{ELBO}$\n",
    "        * we can compute gradients of the $\\text{ELBO}$ wrt $\\phi$ and $\\theta$, i.e., $\\nabla_{\\phi, \\theta}\\text{ELBO}$"
   ]
  },
  {
   "cell_type": "markdown",
   "metadata": {},
   "source": [
    "* Optimizing the $\\text{ELBO}$ over $\\phi$ and $\\theta$ via `stochastic gradient descent` is called `stochastic variational inverence`\n",
    "* Hence, `pyro`'s main algorithm for finding $\\phi$ and $\\theta$ is encapsuled in the `SVI` class (more on later!)"
   ]
  },
  {
   "cell_type": "markdown",
   "metadata": {},
   "source": [
    "# Example: coin bias"
   ]
  },
  {
   "cell_type": "markdown",
   "metadata": {},
   "source": [
    "## problem statement"
   ]
  },
  {
   "cell_type": "markdown",
   "metadata": {},
   "source": [
    "* access the fairness of a given coin in landing heads or tails"
   ]
  },
  {
   "cell_type": "markdown",
   "metadata": {},
   "source": [
    "* knowledge of the coin:\n",
    "    * issued by US mint\n",
    "    * several years of use"
   ]
  },
  {
   "cell_type": "markdown",
   "metadata": {},
   "source": [
    "* knowledge of the experiments:\n",
    "    * the result of 10 trials was H, H, T, H, T, H, H, T, T, H : 6 heads out of 10 trials"
   ]
  },
  {
   "cell_type": "markdown",
   "metadata": {},
   "source": [
    "## modelling in probabilistic terms"
   ]
  },
  {
   "cell_type": "markdown",
   "metadata": {},
   "source": [
    "* we can observe whether the coin lands heads or tails - and we can represent that with a r.v. $x\\in {0, 1}$, such that:\n",
    "    * $x=1$ means the coin lands heads\n",
    "    * $x=0$ otherwise"
   ]
  },
  {
   "cell_type": "markdown",
   "metadata": {},
   "source": [
    "* we can encode the fairness of the coin as a `latent variable` $z\\in\\ ]0,1[$"
   ]
  },
  {
   "cell_type": "markdown",
   "metadata": {},
   "source": [
    "* furthermore, it makes sense to encode the relashionship between $x$ and $z$ as:\n",
    "$$x|z \\sim Bernoulli(z)$$"
   ]
  },
  {
   "cell_type": "markdown",
   "metadata": {},
   "source": [
    "* to encode the knowledge we have of $z$ in a probability distribution, we want to stress that it has higher probability of being fair that not, with support on the interval $[0,1]$ - for that we can use a beta distribution:\n",
    "$$z \\sim Beta(a,b)$$"
   ]
  },
  {
   "cell_type": "markdown",
   "metadata": {},
   "source": [
    "* a different $a$ and $b$ would result in an assymetric distribution, and we don't have any evidence to favor that\n",
    "* furthermore, the higher the values, the sharper the distribution is\n",
    "* so a reasonable choice, given our *prior knowledge*, would be $a=b=8$"
   ]
  },
  {
   "cell_type": "code",
   "execution_count": 17,
   "metadata": {},
   "outputs": [
    {
     "data": {
      "image/png": "[encoded data removed]",
      "text/plain": [
       "<Figure size 640x480 with 1 Axes>"
      ]
     },
     "metadata": {},
     "output_type": "display_data"
    }
   ],
   "source": [
    "def plot_beta(a: float, b: float):\n",
    "    x = torch.linspace(0.01,0.99,100)\n",
    "    plt.plot(x, torch.distributions.Beta(a, b).log_prob(x).exp())\n",
    "plot_beta(8,8)"
   ]
  },
  {
   "cell_type": "markdown",
   "metadata": {},
   "source": [
    "* So, in the end, we have:\n",
    "$\\begin{align}\n",
    "& z \\in [0,1]: \\text{ the fairness of the coin}\\\\\n",
    "& x_i \\in \\{0, 1\\}: \\text{ whether the coin at trial } i \\text{ lands heads}\\\\\n",
    "& z \\sim Beta(8,8) \\\\\n",
    "& x_i|z \\sim^{iid} Bernoulli(z)\n",
    "\\end{align}\n",
    "$"
   ]
  },
  {
   "cell_type": "markdown",
   "metadata": {},
   "source": [
    "## defining the model in `pyro`"
   ]
  },
  {
   "cell_type": "code",
   "execution_count": 18,
   "metadata": {},
   "outputs": [],
   "source": [
    "from functools import partial"
   ]
  },
  {
   "cell_type": "code",
   "execution_count": 19,
   "metadata": {},
   "outputs": [],
   "source": [
    "Bernoulli = partial(dist.Binomial, 1)"
   ]
  },
  {
   "cell_type": "code",
   "execution_count": 38,
   "metadata": {},
   "outputs": [],
   "source": [
    "pyro.clear_param_store()\n",
    "def coin_tossing_model(trials_results: torch.Tensor):\n",
    "    # Set the initial parameters that influence the latent variable z\n",
    "    a = pyro.param('a', torch.tensor(8.))\n",
    "    b = pyro.param('b', torch.tensor(8.))\n",
    "    \n",
    "    # Set the latent variable\n",
    "    z = pyro.sample('z', dist.Beta(a, b))\n",
    "    \n",
    "    # Define the observable variables (iid)\n",
    "    with pyro.plate('data', len(trials_results)):\n",
    "        return pyro.sample('x', Bernoulli(z), obs=trials_results)"
   ]
  },
  {
   "cell_type": "code",
   "execution_count": 40,
   "metadata": {},
   "outputs": [
    {
     "data": {
      "image/svg+xml": "<?xml version=\"1.0\" encoding=\"UTF-8\" standalone=\"no\"?>\n<!DOCTYPE svg PUBLIC \"-//W3C//DTD SVG 1.1//EN\"\n \"http://www.w3.org/Graphics/SVG/1.1/DTD/svg11.dtd\">\n<!-- Generated by graphviz version 2.50.0 (20211204.2007)\n -->\n<!-- Pages: 1 -->\n<svg width=\"184pt\" height=\"157pt\"\n viewBox=\"0.00 0.00 183.50 157.00\" xmlns=\"http://www.w3.org/2000/svg\" xmlns:xlink=\"http://www.w3.org/1999/xlink\">\n<g id=\"graph0\" class=\"graph\" transform=\"scale(1 1) rotate(0) translate(4 153)\">\n<polygon fill=\"white\" stroke=\"transparent\" points=\"-4,4 -4,-153 179.5,-153 179.5,4 -4,4\"/>\n<g id=\"clust1\" class=\"cluster\">\n<title>cluster_data</title>\n<polygon fill=\"none\" stroke=\"black\" points=\"8,-8 8,-83 78,-83 78,-8 8,-8\"/>\n<text text-anchor=\"middle\" x=\"58\" y=\"-15.8\" font-family=\"Times New Roman,serif\" font-size=\"14.00\">data</text>\n</g>\n<!-- z -->\n<g id=\"node1\" class=\"node\">\n<title>z</title>\n<ellipse fill=\"white\" stroke=\"black\" cx=\"43\" cy=\"-130\" rx=\"27\" ry=\"18\"/>\n<text text-anchor=\"middle\" x=\"43\" y=\"-126.3\" font-family=\"Times New Roman,serif\" font-size=\"14.00\">z</text>\n</g>\n<!-- x -->\n<g id=\"node2\" class=\"node\">\n<title>x</title>\n<ellipse fill=\"grey\" stroke=\"black\" cx=\"43\" cy=\"-57\" rx=\"27\" ry=\"18\"/>\n<text text-anchor=\"middle\" x=\"43\" y=\"-53.3\" font-family=\"Times New Roman,serif\" font-size=\"14.00\">x</text>\n</g>\n<!-- z&#45;&gt;x -->\n<g id=\"edge1\" class=\"edge\">\n<title>z&#45;&gt;x</title>\n<path fill=\"none\" stroke=\"black\" d=\"M43,-111.81C43,-103.79 43,-94.05 43,-85.07\"/>\n<polygon fill=\"black\" stroke=\"black\" points=\"46.5,-85.03 43,-75.03 39.5,-85.03 46.5,-85.03\"/>\n</g>\n<!-- distribution_description_node -->\n<g id=\"node3\" class=\"node\">\n<title>distribution_description_node</title>\n<text text-anchor=\"start\" x=\"96.5\" y=\"-133.8\" font-family=\"Times New Roman,serif\" font-size=\"14.00\">z ~ Beta</text>\n<text text-anchor=\"start\" x=\"96.5\" y=\"-118.8\" font-family=\"Times New Roman,serif\" font-size=\"14.00\">x ~ Binomial</text>\n</g>\n</g>\n</svg>\n",
      "text/plain": [
       "<graphviz.graphs.Digraph at 0x24428834cd0>"
      ]
     },
     "execution_count": 40,
     "metadata": {},
     "output_type": "execute_result"
    }
   ],
   "source": [
    "pyro.render_model(coin_tossing_model, [torch.ones((10,))], render_distributions=True)"
   ]
  },
  {
   "cell_type": "markdown",
   "metadata": {},
   "source": [
    "makes sense!"
   ]
  },
  {
   "cell_type": "markdown",
   "metadata": {},
   "source": [
    "## defining the guide"
   ]
  },
  {
   "cell_type": "markdown",
   "metadata": {},
   "source": [
    "* the only requirement for defining the `guide` is that it should have the same support over $z$, i.e., $[0,1]$"
   ]
  },
  {
   "cell_type": "markdown",
   "metadata": {},
   "source": [
    "* a simple choice is to use another beta distribution, only this time we'll try and tune the parameters $\\phi=(\\alpha, \\beta)$"
   ]
  },
  {
   "cell_type": "markdown",
   "metadata": {},
   "source": [
    "* so, we have $q_\\phi(z)=q_{\\alpha, \\beta}(z)=beta(\\alpha, \\beta)$"
   ]
  },
  {
   "cell_type": "markdown",
   "metadata": {},
   "source": [
    "* we actually know that the exact posterior is of this form, since the beta distribution is conjugate of the bernoulli"
   ]
  },
  {
   "cell_type": "markdown",
   "metadata": {},
   "source": [
    "* ecco qua:"
   ]
  },
  {
   "cell_type": "code",
   "execution_count": 41,
   "metadata": {},
   "outputs": [],
   "source": [
    "def coin_tossing_guide(trials_results: torch.Tensor):\n",
    "    \"\"\"guide must have the same signature as the corresponding model, even if it does not use it\"\"\"\n",
    "    # Set variational parameters\n",
    "    alpha = pyro.param('alpha', init=torch.tensor(15.), constraint=dist.constraints.positive)\n",
    "    beta = pyro.param('beta', init=torch.tensor(15.), constraint=dist.constraints.positive)\n",
    "    \n",
    "    # Set variational distribution sample of z\n",
    "    z = pyro.sample('z', dist.Beta(alpha, beta))\n",
    "    "
   ]
  },
  {
   "cell_type": "markdown",
   "metadata": {},
   "source": [
    "* **NOTE**:\n",
    "    * model and guide have the same signature\n",
    "    * guide also samples `'z'`, for its the name given to the latent variable defined in the model - which we are trying to infer upon\n",
    "    * the guide does not have to return anything - it's the relashioship between the variables that interests us"
   ]
  },
  {
   "cell_type": "markdown",
   "metadata": {},
   "source": [
    "## stochastic variational inference herself"
   ]
  },
  {
   "cell_type": "markdown",
   "metadata": {},
   "source": [
    "### optimizer"
   ]
  },
  {
   "cell_type": "markdown",
   "metadata": {},
   "source": [
    "* usually one uses adam - da best"
   ]
  },
  {
   "cell_type": "code",
   "execution_count": 46,
   "metadata": {},
   "outputs": [],
   "source": [
    "from pyro.optim import Adam"
   ]
  },
  {
   "cell_type": "code",
   "execution_count": 47,
   "metadata": {},
   "outputs": [],
   "source": [
    "optimizer = Adam({\n",
    "    'lr': .0005,\n",
    "    'betas': (.9, .999)\n",
    "})"
   ]
  },
  {
   "cell_type": "markdown",
   "metadata": {},
   "source": [
    "### loss"
   ]
  },
  {
   "cell_type": "markdown",
   "metadata": {},
   "source": [
    "* the loss is basically the `ELBO` - that's what we're trying to minimize - `pyro` implements this via a class - to be studied!"
   ]
  },
  {
   "cell_type": "code",
   "execution_count": 48,
   "metadata": {},
   "outputs": [],
   "source": [
    "from pyro.infer import Trace_ELBO"
   ]
  },
  {
   "cell_type": "code",
   "execution_count": 49,
   "metadata": {},
   "outputs": [],
   "source": [
    "loss = Trace_ELBO()"
   ]
  },
  {
   "cell_type": "markdown",
   "metadata": {},
   "source": [
    "### algorithm set up"
   ]
  },
  {
   "cell_type": "code",
   "execution_count": 50,
   "metadata": {},
   "outputs": [],
   "source": [
    "from pyro.infer import SVI"
   ]
  },
  {
   "cell_type": "code",
   "execution_count": 51,
   "metadata": {},
   "outputs": [],
   "source": [
    "svi = SVI(coin_tossing_model, coin_tossing_guide, optimizer, loss)"
   ]
  },
  {
   "cell_type": "markdown",
   "metadata": {},
   "source": [
    "### training"
   ]
  },
  {
   "cell_type": "markdown",
   "metadata": {},
   "source": [
    "#### format data"
   ]
  },
  {
   "cell_type": "markdown",
   "metadata": {},
   "source": [
    "* given the sequence of trials (H, H, T, H, T, H, H, T, T, H)"
   ]
  },
  {
   "cell_type": "code",
   "execution_count": 43,
   "metadata": {},
   "outputs": [],
   "source": [
    "data = torch.tensor((1., 1., 0., 1., 0., 1., 1., 0., 0., 1.))"
   ]
  },
  {
   "cell_type": "code",
   "execution_count": 44,
   "metadata": {},
   "outputs": [
    {
     "data": {
      "text/plain": [
       "tensor([1., 1., 0., 1., 0., 1., 1., 0., 0., 1.])"
      ]
     },
     "execution_count": 44,
     "metadata": {},
     "output_type": "execute_result"
    }
   ],
   "source": [
    "data"
   ]
  },
  {
   "cell_type": "markdown",
   "metadata": {},
   "source": [
    "#### train"
   ]
  },
  {
   "cell_type": "code",
   "execution_count": 58,
   "metadata": {},
   "outputs": [],
   "source": [
    "from pyro.infer.abstract_infer import TracePosterior"
   ]
  },
  {
   "cell_type": "code",
   "execution_count": 59,
   "metadata": {},
   "outputs": [],
   "source": [
    "from array import array"
   ]
  },
  {
   "cell_type": "code",
   "execution_count": 63,
   "metadata": {},
   "outputs": [],
   "source": [
    "# Set number of steps\n",
    "def train(algorithm: SVI, \n",
    "          data: torch.Tensor, \n",
    "          number_steps: int) -> array:\n",
    "    \n",
    "    losses = array('f')\n",
    "    \n",
    "    for step in range(number_steps):\n",
    "        # An svi.step is basically a forward and a backward - compute the loss and optimize\n",
    "        loss = algorithm.step(data)\n",
    "        losses.append(loss)\n",
    "        if step % 100 == 0:\n",
    "            log.info(f'Loss at step {step}: {loss}')"
   ]
  },
  {
   "cell_type": "code",
   "execution_count": null,
   "metadata": {},
   "outputs": [],
   "source": []
  },
  {
   "cell_type": "markdown",
   "metadata": {},
   "source": [
    "# Example: Geography and national income"
   ]
  },
  {
   "cell_type": "markdown",
   "metadata": {},
   "source": [
    "### problem statement"
   ]
  },
  {
   "cell_type": "markdown",
   "metadata": {},
   "source": [
    "* from `Statistical Rethinkin`"
   ]
  },
  {
   "cell_type": "markdown",
   "metadata": {},
   "source": [
    "* Problem: investigate the relationship between a country's **terrain ruggedness** and its **GDP per capita** wrt whether the country belongs to the african continent or not"
   ]
  },
  {
   "cell_type": "markdown",
   "metadata": {},
   "source": [
    "* We'll have a dataset coming from \"https://d2hg8soec8ck9v.cloudfront.net/datasets/rugged_data.csv\", with relevant features:\n",
    "    * `rugged`: quantifying the *terrain ruggedness index*\n",
    "    * `cont_africa`: whether the given nation is in Africa\n",
    "    * `rgdppc_2000`: GDP per capita for the year 2000"
   ]
  },
  {
   "cell_type": "markdown",
   "metadata": {},
   "source": [
    "### data"
   ]
  },
  {
   "cell_type": "code",
   "execution_count": null,
   "metadata": {},
   "outputs": [],
   "source": [
    "DATA_URL = \"https://d2hg8soec8ck9v.cloudfront.net/datasets/rugged_data.csv\"\n",
    "data = pd.read_csv(DATA_URL, encoding=\"ISO-8859-1\")\n",
    "df = data[[\"cont_africa\", \"rugged\", \"rgdppc_2000\"]]"
   ]
  },
  {
   "cell_type": "code",
   "execution_count": null,
   "metadata": {},
   "outputs": [
    {
     "data": {
      "text/html": [
       "<div>\n",
       "<style scoped>\n",
       "    .dataframe tbody tr th:only-of-type {\n",
       "        vertical-align: middle;\n",
       "    }\n",
       "\n",
       "    .dataframe tbody tr th {\n",
       "        vertical-align: top;\n",
       "    }\n",
       "\n",
       "    .dataframe thead th {\n",
       "        text-align: right;\n",
       "    }\n",
       "</style>\n",
       "<table border=\"1\" class=\"dataframe\">\n",
       "  <thead>\n",
       "    <tr style=\"text-align: right;\">\n",
       "      <th></th>\n",
       "      <th>cont_africa</th>\n",
       "      <th>rugged</th>\n",
       "      <th>rgdppc_2000</th>\n",
       "    </tr>\n",
       "  </thead>\n",
       "  <tbody>\n",
       "    <tr>\n",
       "      <th>0</th>\n",
       "      <td>0</td>\n",
       "      <td>0.462</td>\n",
       "      <td>NaN</td>\n",
       "    </tr>\n",
       "    <tr>\n",
       "      <th>1</th>\n",
       "      <td>0</td>\n",
       "      <td>2.518</td>\n",
       "      <td>NaN</td>\n",
       "    </tr>\n",
       "    <tr>\n",
       "      <th>2</th>\n",
       "      <td>1</td>\n",
       "      <td>0.858</td>\n",
       "      <td>1794.729</td>\n",
       "    </tr>\n",
       "    <tr>\n",
       "      <th>3</th>\n",
       "      <td>0</td>\n",
       "      <td>0.013</td>\n",
       "      <td>NaN</td>\n",
       "    </tr>\n",
       "    <tr>\n",
       "      <th>4</th>\n",
       "      <td>0</td>\n",
       "      <td>3.427</td>\n",
       "      <td>3703.113</td>\n",
       "    </tr>\n",
       "  </tbody>\n",
       "</table>\n",
       "</div>"
      ],
      "text/plain": [
       "   cont_africa  rugged  rgdppc_2000\n",
       "0            0   0.462          NaN\n",
       "1            0   2.518          NaN\n",
       "2            1   0.858     1794.729\n",
       "3            0   0.013          NaN\n",
       "4            0   3.427     3703.113"
      ]
     },
     "execution_count": 15,
     "metadata": {},
     "output_type": "execute_result"
    }
   ],
   "source": [
    "df.head()"
   ]
  },
  {
   "cell_type": "markdown",
   "metadata": {},
   "source": [
    "### features engineering"
   ]
  },
  {
   "cell_type": "code",
   "execution_count": null,
   "metadata": {},
   "outputs": [
    {
     "data": {
      "text/plain": [
       "cont_africa     0\n",
       "rugged          0\n",
       "rgdppc_2000    64\n",
       "dtype: int64"
      ]
     },
     "execution_count": 16,
     "metadata": {},
     "output_type": "execute_result"
    }
   ],
   "source": [
    "df.isna().sum()"
   ]
  },
  {
   "cell_type": "code",
   "execution_count": null,
   "metadata": {},
   "outputs": [
    {
     "data": {
      "text/plain": [
       "<AxesSubplot:>"
      ]
     },
     "execution_count": 17,
     "metadata": {},
     "output_type": "execute_result"
    },
    {
     "data": {
      "image/png": "[encoded data removed]",
      "text/plain": [
       "<Figure size 640x480 with 1 Axes>"
      ]
     },
     "metadata": {},
     "output_type": "display_data"
    }
   ],
   "source": [
    "df.rugged.hist()"
   ]
  },
  {
   "cell_type": "code",
   "execution_count": null,
   "metadata": {},
   "outputs": [
    {
     "data": {
      "text/plain": [
       "<AxesSubplot:>"
      ]
     },
     "execution_count": 18,
     "metadata": {},
     "output_type": "execute_result"
    },
    {
     "data": {
      "image/png": "[encoded data removed]",
      "text/plain": [
       "<Figure size 640x480 with 1 Axes>"
      ]
     },
     "metadata": {},
     "output_type": "display_data"
    }
   ],
   "source": [
    "df.rgdppc_2000.hist()"
   ]
  },
  {
   "cell_type": "markdown",
   "metadata": {},
   "source": [
    "* **NOTE**:\n",
    "    * since GDP is skewed, we log transform it\n",
    "    * we drop na values"
   ]
  },
  {
   "cell_type": "code",
   "execution_count": null,
   "metadata": {},
   "outputs": [],
   "source": [
    "df = df[np.isfinite(df.rgdppc_2000)]\n",
    "df[\"rgdppc_2000\"] = np.log(df[\"rgdppc_2000\"])"
   ]
  },
  {
   "cell_type": "code",
   "execution_count": null,
   "metadata": {},
   "outputs": [
    {
     "data": {
      "text/plain": [
       "cont_africa    0\n",
       "rugged         0\n",
       "rgdppc_2000    0\n",
       "dtype: int64"
      ]
     },
     "execution_count": 20,
     "metadata": {},
     "output_type": "execute_result"
    }
   ],
   "source": [
    "df.isna().sum()"
   ]
  },
  {
   "cell_type": "code",
   "execution_count": null,
   "metadata": {},
   "outputs": [
    {
     "data": {
      "text/plain": [
       "<AxesSubplot:>"
      ]
     },
     "execution_count": 21,
     "metadata": {},
     "output_type": "execute_result"
    },
    {
     "data": {
      "image/png": "[encoded data removed]",
      "text/plain": [
       "<Figure size 640x480 with 1 Axes>"
      ]
     },
     "metadata": {},
     "output_type": "display_data"
    }
   ],
   "source": [
    "df.rgdppc_2000.hist()"
   ]
  },
  {
   "cell_type": "markdown",
   "metadata": {},
   "source": [
    "* **NOTE**:\n",
    "    * for using `pyro`, we must grab data as `torch` tensors"
   ]
  },
  {
   "cell_type": "code",
   "execution_count": null,
   "metadata": {},
   "outputs": [],
   "source": [
    "train = torch.tensor(df.values, dtype=torch.float)\n",
    "is_cont_africa, ruggedness, log_gdp = train[:, 0], train[:, 1], train[:, 2]"
   ]
  },
  {
   "cell_type": "code",
   "execution_count": null,
   "metadata": {},
   "outputs": [
    {
     "data": {
      "image/png": "[encoded data removed]",
      "text/plain": [
       "<Figure size 1200x600 with 2 Axes>"
      ]
     },
     "metadata": {},
     "output_type": "display_data"
    }
   ],
   "source": [
    "fig, ax = plt.subplots(nrows=1, ncols=2, figsize=(12, 6), sharey=True)\n",
    "african_nations = df[df[\"cont_africa\"] == 1]\n",
    "non_african_nations = df[df[\"cont_africa\"] == 0]\n",
    "sns.scatterplot(x=non_african_nations[\"rugged\"],\n",
    "                y=non_african_nations[\"rgdppc_2000\"],\n",
    "                ax=ax[0])\n",
    "ax[0].set(xlabel=\"Terrain Ruggedness Index\",\n",
    "          ylabel=\"log GDP (2000)\",\n",
    "          title=\"Non African Nations\")\n",
    "sns.scatterplot(x=african_nations[\"rugged\"],\n",
    "                y=african_nations[\"rgdppc_2000\"],\n",
    "                ax=ax[1])\n",
    "ax[1].set(xlabel=\"Terrain Ruggedness Index\",\n",
    "          ylabel=\"log GDP (2000)\",\n",
    "          title=\"African Nations\");"
   ]
  },
  {
   "cell_type": "code",
   "execution_count": null,
   "metadata": {},
   "outputs": [],
   "source": []
  },
  {
   "cell_type": "code",
   "execution_count": null,
   "metadata": {},
   "outputs": [],
   "source": []
  }
 ],
 "metadata": {
  "interpreter": {
   "hash": "ba6fa7d4b015855a412d1632c284c0c096a24858ef4cbe59a6b1cbcceee0d16f"
  },
  "kernelspec": {
   "display_name": "Python 3.9.7 64-bit ('ppl': conda)",
   "language": "python",
   "name": "python3"
  },
  "language_info": {
   "codemirror_mode": {
    "name": "ipython",
    "version": 3
   },
   "file_extension": ".py",
   "mimetype": "text/x-python",
   "name": "python",
   "nbconvert_exporter": "python",
   "pygments_lexer": "ipython3",
   "version": "3.9.7"
  },
  "orig_nbformat": 4
 },
 "nbformat": 4,
 "nbformat_minor": 2
}
